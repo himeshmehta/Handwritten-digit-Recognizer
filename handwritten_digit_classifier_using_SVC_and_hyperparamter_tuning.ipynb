{
  "nbformat": 4,
  "nbformat_minor": 0,
  "metadata": {
    "colab": {
      "name": "handwritten digit classifier using  SVC and hyperparamter tuning.ipynb",
      "provenance": [],
      "include_colab_link": true
    },
    "kernelspec": {
      "name": "python3",
      "display_name": "Python 3"
    }
  },
  "cells": [
    {
      "cell_type": "markdown",
      "metadata": {
        "id": "view-in-github",
        "colab_type": "text"
      },
      "source": [
        "<a href=\"https://colab.research.google.com/github/himeshmehta/Handwritten-digit-Recognizer/blob/master/handwritten_digit_classifier_using_SVC_and_hyperparamter_tuning.ipynb\" target=\"_parent\"><img src=\"https://colab.research.google.com/assets/colab-badge.svg\" alt=\"Open In Colab\"/></a>"
      ]
    },
    {
      "cell_type": "code",
      "metadata": {
        "id": "hbu5Vv5QQPeb",
        "colab_type": "code",
        "colab": {}
      },
      "source": [
        "import numpy as np\n",
        "import pandas as pd\n",
        "import matplotlib.pyplot as plt\n",
        "from sklearn.model_selection import train_test_split\n",
        "from sklearn.preprocessing import StandardScaler"
      ],
      "execution_count": 0,
      "outputs": []
    },
    {
      "cell_type": "code",
      "metadata": {
        "id": "DK-EBjqNQzkR",
        "colab_type": "code",
        "outputId": "8e3a307f-cdec-47d6-d230-970936c48e78",
        "colab": {
          "base_uri": "https://localhost:8080/",
          "height": 79
        }
      },
      "source": [
        "# load data from keras\n",
        "from keras.datasets import mnist\n",
        "(X_train , Y_train),(X_test,Y_test) = mnist.load_data()"
      ],
      "execution_count": 3,
      "outputs": [
        {
          "output_type": "stream",
          "text": [
            "Using TensorFlow backend.\n"
          ],
          "name": "stderr"
        },
        {
          "output_type": "display_data",
          "data": {
            "text/html": [
              "<p style=\"color: red;\">\n",
              "The default version of TensorFlow in Colab will soon switch to TensorFlow 2.x.<br>\n",
              "We recommend you <a href=\"https://www.tensorflow.org/guide/migrate\" target=\"_blank\">upgrade</a> now \n",
              "or ensure your notebook will continue to use TensorFlow 1.x via the <code>%tensorflow_version 1.x</code> magic:\n",
              "<a href=\"https://colab.research.google.com/notebooks/tensorflow_version.ipynb\" target=\"_blank\">more info</a>.</p>\n"
            ],
            "text/plain": [
              "<IPython.core.display.HTML object>"
            ]
          },
          "metadata": {
            "tags": []
          }
        }
      ]
    },
    {
      "cell_type": "code",
      "metadata": {
        "id": "6B_C1z3aRN6Q",
        "colab_type": "code",
        "colab": {}
      },
      "source": [
        "def data_summary( X_train , Y_train , X_test  , Y_test ):\n",
        "  print(\"the shape of X_train: \",X_train.shape)\n",
        "  print(\"the shape of Y_train: \",Y_train.shape)\n",
        "  print(\"the shape of X_test: \",X_test.shape)\n",
        "  print(\"the shape of Y_test: \",Y_test.shape)\n",
        "  return "
      ],
      "execution_count": 0,
      "outputs": []
    },
    {
      "cell_type": "code",
      "metadata": {
        "id": "AIGkHWQJRy9f",
        "colab_type": "code",
        "outputId": "179fe250-2676-414d-e9db-25b19998da16",
        "colab": {
          "base_uri": "https://localhost:8080/",
          "height": 84
        }
      },
      "source": [
        "data_summary(\n",
        "    X_train,\n",
        "    Y_train,\n",
        "    X_test,\n",
        "    Y_test\n",
        ")"
      ],
      "execution_count": 5,
      "outputs": [
        {
          "output_type": "stream",
          "text": [
            "the shape of X_train:  (60000, 28, 28)\n",
            "the shape of Y_train:  (60000,)\n",
            "the shape of X_test:  (10000, 28, 28)\n",
            "the shape of Y_test:  (10000,)\n"
          ],
          "name": "stdout"
        }
      ]
    },
    {
      "cell_type": "code",
      "metadata": {
        "id": "Xu1l7G1RR7QW",
        "colab_type": "code",
        "outputId": "74422779-5b2f-4b06-e8e0-ac92d6205eab",
        "colab": {
          "base_uri": "https://localhost:8080/",
          "height": 84
        }
      },
      "source": [
        "# change the shape of X_train,X_test\n",
        "X_train = X_train.reshape(X_train.shape[0],784)\n",
        "X_test  = X_test.reshape(X_test.shape[0],784)\n",
        "data_summary(\n",
        "    X_train,\n",
        "    Y_train,\n",
        "    X_test,\n",
        "    Y_test\n",
        ")\n"
      ],
      "execution_count": 6,
      "outputs": [
        {
          "output_type": "stream",
          "text": [
            "the shape of X_train:  (60000, 784)\n",
            "the shape of Y_train:  (60000,)\n",
            "the shape of X_test:  (10000, 784)\n",
            "the shape of Y_test:  (10000,)\n"
          ],
          "name": "stdout"
        }
      ]
    },
    {
      "cell_type": "code",
      "metadata": {
        "id": "pKaNk9qpgC97",
        "colab_type": "code",
        "colab": {
          "base_uri": "https://localhost:8080/",
          "height": 34
        },
        "outputId": "ac585102-2415-450a-d94a-0e7050a82dd9"
      },
      "source": [
        "# feature scaling\n",
        "sc = StandardScaler()\n",
        "X_train  = sc.fit_transform(X_train)\n",
        "X_test   = sc.transform(X_test)\n",
        "np.mean(X_train)"
      ],
      "execution_count": 8,
      "outputs": [
        {
          "output_type": "execute_result",
          "data": {
            "text/plain": [
              "4.6908810924808484e-17"
            ]
          },
          "metadata": {
            "tags": []
          },
          "execution_count": 8
        }
      ]
    },
    {
      "cell_type": "code",
      "metadata": {
        "id": "uG8LB6HXW9zt",
        "colab_type": "code",
        "colab": {}
      },
      "source": [
        "# build model using grid search .. \n",
        "import time\n",
        "from sklearn.svm import SVC\n",
        "from sklearn.model_selection import GridSearchCV\n",
        "start_time = time.time()\n",
        "parameters = {'C':[0.1,1,10],'kernel':['rbf'],'gamma':[1,0.1,0.01],'max_iter':[1,10,100]}\n",
        "# C=  Penalty parameter C of the error term.\n",
        "# kernel = 'rbf\n",
        "# gamma = Kernel coefficient for ‘rbf’\n",
        "# max_iter = Hard limit on iterations within solver, or -1 for no limit.\n",
        "grid_search_model = GridSearchCV( SVC() , param_grid = parameters , scoring = 'accuracy' )\n",
        "grid_search_model.fit(X_train,Y_train)\n",
        "end_time = time.time()\n",
        "\n",
        "print(\"total time taken by grid search  to get best hyperparametr \",end_time-start_time)\n",
        "# total time taken by grid search  to get best hyperparametr  4917.004335165024"
      ],
      "execution_count": 0,
      "outputs": []
    },
    {
      "cell_type": "code",
      "metadata": {
        "id": "VDfJeWRwTLpC",
        "colab_type": "code",
        "outputId": "48abba9d-2d3c-41df-b462-cf98023fea01",
        "colab": {
          "base_uri": "https://localhost:8080/",
          "height": 101
        }
      },
      "source": [
        "# best parameter after tuning\n",
        "\n",
        "print(\"best parameter after tuning \",grid_search_model.best_params_)\n",
        "\n",
        "# best estimator after tuning\n",
        "print(\"best estimator after tuning \",grid_search_model.best_estimator_)"
      ],
      "execution_count": 11,
      "outputs": [
        {
          "output_type": "stream",
          "text": [
            "best parameter after tuning  {'C': 1, 'gamma': 0.01, 'kernel': 'rbf', 'max_iter': 100}\n",
            "best estimator after tuning  SVC(C=1, cache_size=200, class_weight=None, coef0=0.0,\n",
            "    decision_function_shape='ovr', degree=3, gamma=0.01, kernel='rbf',\n",
            "    max_iter=100, probability=False, random_state=None, shrinking=True,\n",
            "    tol=0.001, verbose=False)\n"
          ],
          "name": "stdout"
        }
      ]
    },
    {
      "cell_type": "code",
      "metadata": {
        "id": "0mGvnGFVRYdP",
        "colab_type": "code",
        "colab": {
          "base_uri": "https://localhost:8080/",
          "height": 487
        },
        "outputId": "8b998338-8f6d-498e-dcb7-2721cb7cca58"
      },
      "source": [
        "\n",
        "# make prediction from test data\n",
        "Y_pred = grid_search_model.predict(X_test)\n",
        "# accuarcy report\n",
        "\n",
        "from sklearn.metrics import classification_report , confusion_matrix , accuracy_score\n",
        "# classification report\n",
        "print(classification_report(Y_test,Y_pred))\n",
        "print(confusion_matrix(Y_test,Y_pred))\n",
        "print( accuracy_score(Y_test,Y_pred) )\n"
      ],
      "execution_count": 13,
      "outputs": [
        {
          "output_type": "stream",
          "text": [
            "              precision    recall  f1-score   support\n",
            "\n",
            "           0       0.87      0.99      0.93       980\n",
            "           1       0.98      0.99      0.99      1135\n",
            "           2       0.78      0.95      0.86      1032\n",
            "           3       0.86      0.82      0.84      1010\n",
            "           4       0.82      0.95      0.88       982\n",
            "           5       0.80      0.92      0.85       892\n",
            "           6       0.99      0.78      0.87       958\n",
            "           7       0.86      0.88      0.87      1028\n",
            "           8       0.94      0.76      0.84       974\n",
            "           9       0.97      0.71      0.82      1009\n",
            "\n",
            "    accuracy                           0.88     10000\n",
            "   macro avg       0.89      0.88      0.87     10000\n",
            "weighted avg       0.89      0.88      0.88     10000\n",
            "\n",
            "[[ 970    0    4    2    0    3    1    0    0    0]\n",
            " [   0 1129    3    2    0    0    0    0    1    0]\n",
            " [  18    1  985    7    3    0    0   12    6    0]\n",
            " [   4    1   71  826    1   74    0   11   22    0]\n",
            " [   4    2   23    0  930    1    2    7    4    9]\n",
            " [  11    0    4   35    6  820    6    4    6    0]\n",
            " [  80    3   64    2   13   45  747    2    2    0]\n",
            " [   3    9   75    1   23    0    0  907    0   10]\n",
            " [  13    0   29   74   29   81    0    9  738    1]\n",
            " [  10    3   12   14  130    7    0  107    9  717]]\n",
            "0.8769\n"
          ],
          "name": "stdout"
        }
      ]
    },
    {
      "cell_type": "code",
      "metadata": {
        "id": "JWLGM1L-6VOk",
        "colab_type": "code",
        "colab": {}
      },
      "source": [
        ""
      ],
      "execution_count": 0,
      "outputs": []
    }
  ]
}