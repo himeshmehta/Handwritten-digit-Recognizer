{
  "nbformat": 4,
  "nbformat_minor": 0,
  "metadata": {
    "colab": {
      "name": "handwritten digit classifier in logistic regression .ipynb",
      "provenance": [],
      "include_colab_link": true
    },
    "kernelspec": {
      "name": "python3",
      "display_name": "Python 3"
    }
  },
  "cells": [
    {
      "cell_type": "markdown",
      "metadata": {
        "id": "view-in-github",
        "colab_type": "text"
      },
      "source": [
        "<a href=\"https://colab.research.google.com/github/himeshmehta/Handwritten-digit-Recognizer/blob/master/handwritten_digit_classifier_in_logistic_regression_.ipynb\" target=\"_parent\"><img src=\"https://colab.research.google.com/assets/colab-badge.svg\" alt=\"Open In Colab\"/></a>"
      ]
    },
    {
      "cell_type": "code",
      "metadata": {
        "id": "hbu5Vv5QQPeb",
        "colab_type": "code",
        "colab": {}
      },
      "source": [
        "import numpy as np\n",
        "import pandas as pd\n",
        "import matplotlib.pyplot as plt\n",
        "from sklearn.model_selection import train_test_split\n",
        "from sklearn.preprocessing import StandardScaler"
      ],
      "execution_count": 0,
      "outputs": []
    },
    {
      "cell_type": "code",
      "metadata": {
        "id": "DK-EBjqNQzkR",
        "colab_type": "code",
        "colab": {
          "base_uri": "https://localhost:8080/",
          "height": 79
        },
        "outputId": "20664111-9c2a-450e-b26c-ad8e21617647"
      },
      "source": [
        "# load data from keras\n",
        "from keras.datasets import mnist\n",
        "(X_train , Y_train),(X_test,Y_test) = mnist.load_data()"
      ],
      "execution_count": 2,
      "outputs": [
        {
          "output_type": "stream",
          "text": [
            "Using TensorFlow backend.\n"
          ],
          "name": "stderr"
        },
        {
          "output_type": "display_data",
          "data": {
            "text/html": [
              "<p style=\"color: red;\">\n",
              "The default version of TensorFlow in Colab will soon switch to TensorFlow 2.x.<br>\n",
              "We recommend you <a href=\"https://www.tensorflow.org/guide/migrate\" target=\"_blank\">upgrade</a> now \n",
              "or ensure your notebook will continue to use TensorFlow 1.x via the <code>%tensorflow_version 1.x</code> magic:\n",
              "<a href=\"https://colab.research.google.com/notebooks/tensorflow_version.ipynb\" target=\"_blank\">more info</a>.</p>\n"
            ],
            "text/plain": [
              "<IPython.core.display.HTML object>"
            ]
          },
          "metadata": {
            "tags": []
          }
        }
      ]
    },
    {
      "cell_type": "code",
      "metadata": {
        "id": "6B_C1z3aRN6Q",
        "colab_type": "code",
        "colab": {}
      },
      "source": [
        "def data_summary( X_train , Y_train , X_test  , Y_test ):\n",
        "  print(\"the shape of X_train: \",X_train.shape)\n",
        "  print(\"the shape of Y_train: \",Y_train.shape)\n",
        "  print(\"the shape of X_test: \",X_test.shape)\n",
        "  print(\"the shape of Y_test: \",Y_test.shape)\n",
        "  return "
      ],
      "execution_count": 0,
      "outputs": []
    },
    {
      "cell_type": "code",
      "metadata": {
        "id": "AIGkHWQJRy9f",
        "colab_type": "code",
        "colab": {
          "base_uri": "https://localhost:8080/",
          "height": 84
        },
        "outputId": "b8568002-3d54-4c60-be6a-5ff9894b2337"
      },
      "source": [
        "data_summary(\n",
        "    X_train,\n",
        "    Y_train,\n",
        "    X_test,\n",
        "    Y_test\n",
        ")"
      ],
      "execution_count": 4,
      "outputs": [
        {
          "output_type": "stream",
          "text": [
            "the shape of X_train:  (60000, 28, 28)\n",
            "the shape of Y_train:  (60000,)\n",
            "the shape of X_test:  (10000, 28, 28)\n",
            "the shape of Y_test:  (10000,)\n"
          ],
          "name": "stdout"
        }
      ]
    },
    {
      "cell_type": "code",
      "metadata": {
        "id": "Xu1l7G1RR7QW",
        "colab_type": "code",
        "colab": {
          "base_uri": "https://localhost:8080/",
          "height": 84
        },
        "outputId": "52fc9672-282a-475b-b3ce-293d2a5b110f"
      },
      "source": [
        "# change the shape of X_train,X_test\n",
        "X_train = X_train.reshape(X_train.shape[0],784)\n",
        "X_test  = X_test.reshape(X_test.shape[0],784)\n",
        "data_summary(\n",
        "    X_train,\n",
        "    Y_train,\n",
        "    X_test,\n",
        "    Y_test\n",
        ")\n"
      ],
      "execution_count": 5,
      "outputs": [
        {
          "output_type": "stream",
          "text": [
            "the shape of X_train:  (60000, 784)\n",
            "the shape of Y_train:  (60000,)\n",
            "the shape of X_test:  (10000, 784)\n",
            "the shape of Y_test:  (10000,)\n"
          ],
          "name": "stdout"
        }
      ]
    },
    {
      "cell_type": "code",
      "metadata": {
        "id": "pKaNk9qpgC97",
        "colab_type": "code",
        "colab": {}
      },
      "source": [
        "# feature scaling\n",
        "X_train = X_train/255\n",
        "X_test  = X_test/255"
      ],
      "execution_count": 0,
      "outputs": []
    },
    {
      "cell_type": "code",
      "metadata": {
        "id": "9tPyXEkKSRQz",
        "colab_type": "code",
        "colab": {
          "base_uri": "https://localhost:8080/",
          "height": 104
        },
        "outputId": "caabb473-bbf2-443c-9009-32315b47b6aa"
      },
      "source": [
        "# create a logistic regression model\n",
        "from sklearn.linear_model import LogisticRegression\n",
        "model  = LogisticRegression()\n",
        "model.fit(X_train,Y_train)\n",
        "Y_pred = model.predict(X_test) "
      ],
      "execution_count": 7,
      "outputs": [
        {
          "output_type": "stream",
          "text": [
            "/usr/local/lib/python3.6/dist-packages/sklearn/linear_model/logistic.py:432: FutureWarning: Default solver will be changed to 'lbfgs' in 0.22. Specify a solver to silence this warning.\n",
            "  FutureWarning)\n",
            "/usr/local/lib/python3.6/dist-packages/sklearn/linear_model/logistic.py:469: FutureWarning: Default multi_class will be changed to 'auto' in 0.22. Specify the multi_class option to silence this warning.\n",
            "  \"this warning.\", FutureWarning)\n"
          ],
          "name": "stderr"
        }
      ]
    },
    {
      "cell_type": "code",
      "metadata": {
        "id": "VDfJeWRwTLpC",
        "colab_type": "code",
        "colab": {
          "base_uri": "https://localhost:8080/",
          "height": 34
        },
        "outputId": "30fa3763-6234-488f-bbaf-e84960ded8bb"
      },
      "source": [
        "# measure the accuracy \n",
        "from sklearn import metrics\n",
        "print(\"accuracy of this model is \",metrics.accuracy_score(Y_test,Y_pred))"
      ],
      "execution_count": 8,
      "outputs": [
        {
          "output_type": "stream",
          "text": [
            "accuracy of this model is  0.9201\n"
          ],
          "name": "stdout"
        }
      ]
    },
    {
      "cell_type": "code",
      "metadata": {
        "id": "CsYoJBpNgzIN",
        "colab_type": "code",
        "colab": {
          "base_uri": "https://localhost:8080/",
          "height": 202
        },
        "outputId": "45278e8f-5628-487b-dbbb-f37cedf9fbd2"
      },
      "source": [
        "# print confusion metric\n",
        "print(\"confusion mteric is \")\n",
        "print(metrics.confusion_matrix(Y_test,Y_pred))"
      ],
      "execution_count": 10,
      "outputs": [
        {
          "output_type": "stream",
          "text": [
            "confusion mteric is \n",
            "[[ 960    0    1    2    0    5    6    3    1    2]\n",
            " [   0 1112    3    1    0    1    5    1   12    0]\n",
            " [   8    8  920   20    9    5   10   11   37    4]\n",
            " [   4    0   17  919    2   22    4   12   21    9]\n",
            " [   1    2    5    3  914    0   10    2    7   38]\n",
            " [  10    2    0   42   10  769   17    7   28    7]\n",
            " [   9    3    7    2    6   20  907    1    3    0]\n",
            " [   2    7   22    5    8    1    1  950    5   27]\n",
            " [  10   14    5   21   14   27    7   11  853   12]\n",
            " [   8    8    2   13   31   14    0   24   12  897]]\n"
          ],
          "name": "stdout"
        }
      ]
    },
    {
      "cell_type": "code",
      "metadata": {
        "id": "caRINl8PhEl7",
        "colab_type": "code",
        "colab": {}
      },
      "source": [
        ""
      ],
      "execution_count": 0,
      "outputs": []
    }
  ]
}