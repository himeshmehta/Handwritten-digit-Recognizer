{
  "nbformat": 4,
  "nbformat_minor": 0,
  "metadata": {
    "colab": {
      "name": "Untitled6.ipynb",
      "provenance": [],
      "include_colab_link": true
    },
    "kernelspec": {
      "name": "python3",
      "display_name": "Python 3"
    }
  },
  "cells": [
    {
      "cell_type": "markdown",
      "metadata": {
        "id": "view-in-github",
        "colab_type": "text"
      },
      "source": [
        "<a href=\"https://colab.research.google.com/github/himeshmehta/Handwritten-digit-Recognizer/blob/master/handwritten_digit_recognition.ipynb\" target=\"_parent\"><img src=\"https://colab.research.google.com/assets/colab-badge.svg\" alt=\"Open In Colab\"/></a>"
      ]
    },
    {
      "cell_type": "code",
      "metadata": {
        "id": "VKcOSxr7xVzs",
        "colab_type": "code",
        "colab": {}
      },
      "source": [
        "import numpy as np\n",
        "import pandas as pd\n",
        "import matplotlib.pyplot as plt\n",
        "from  sklearn.model_selection import train_test_split\n",
        "from sklearn.preprocessing import StandardScaler\n",
        "from keras.datasets import mnist"
      ],
      "execution_count": 0,
      "outputs": []
    },
    {
      "cell_type": "code",
      "metadata": {
        "id": "cT8qswE-1WZa",
        "colab_type": "code",
        "colab": {}
      },
      "source": [
        "# load the data \n",
        "( X_train,Y_train ),( X_test,Y_test ) = mnist.load_data()"
      ],
      "execution_count": 0,
      "outputs": []
    },
    {
      "cell_type": "code",
      "metadata": {
        "id": "RrtkCC6x6o9u",
        "colab_type": "code",
        "colab": {}
      },
      "source": [
        "# data summary\n",
        "def data_summary(X_train,Y_train,x_test,y_test):\n",
        "  print(\"Shape of training image set\",X_train.shape)\n",
        "  print(\"Shape of training label set\",Y_train.shape)\n",
        "  print(\"Shape of testing image set\",X_test.shape)\n",
        "  print(\"Shape of testing label set\",Y_test.shape)\n",
        "       \n"
      ],
      "execution_count": 0,
      "outputs": []
    },
    {
      "cell_type": "code",
      "metadata": {
        "id": "NDSeDUcJNdEm",
        "colab_type": "code",
        "colab": {
          "base_uri": "https://localhost:8080/",
          "height": 84
        },
        "outputId": "32bfdfde-9df1-4f22-ff32-5fb314cbc8a6"
      },
      "source": [
        "# analyse the data summary\n",
        "data_summary(X_train,Y_train,X_test,Y_test)"
      ],
      "execution_count": 105,
      "outputs": [
        {
          "output_type": "stream",
          "text": [
            "Shape of training image set (60000, 28, 28)\n",
            "Shape of training label set (60000,)\n",
            "Shape of testing image set (10000, 28, 28)\n",
            "Shape of testing label set (10000,)\n"
          ],
          "name": "stdout"
        }
      ]
    },
    {
      "cell_type": "markdown",
      "metadata": {
        "id": "D_0ipui567qt",
        "colab_type": "text"
      },
      "source": [
        "here dataframe is in format of (x,y,z) .\n",
        "to make it usable we need to convert into (m,n) format.\n",
        "so reshape the data frame ( X_train , Y_train) such that number of columns becomes 784 "
      ]
    },
    {
      "cell_type": "code",
      "metadata": {
        "id": "XfWdZITb66JY",
        "colab_type": "code",
        "colab": {
          "base_uri": "https://localhost:8080/",
          "height": 84
        },
        "outputId": "17d52f54-d323-4b5b-8247-1d7377821dad"
      },
      "source": [
        "X_train = X_train.reshape( (60000,784) )\n",
        "X_test = X_test.reshape( (10000,784) )\n",
        "\n",
        "#again analyse the data shape\n",
        "data_summary(X_train,Y_train,X_test,Y_test)"
      ],
      "execution_count": 106,
      "outputs": [
        {
          "output_type": "stream",
          "text": [
            "Shape of training image set (60000, 784)\n",
            "Shape of training label set (60000,)\n",
            "Shape of testing image set (10000, 784)\n",
            "Shape of testing label set (10000,)\n"
          ],
          "name": "stdout"
        }
      ]
    },
    {
      "cell_type": "markdown",
      "metadata": {
        "id": "U_0fRVwh8D8N",
        "colab_type": "text"
      },
      "source": [
        "Now our dataframe contain 784 columns  where each columns contain values from 0-255. Now we are going normalise the data.\n",
        "but before doing that we need to convert type of data because on normalisation we will getting our data in float type. "
      ]
    },
    {
      "cell_type": "code",
      "metadata": {
        "id": "eZabgHeM6yYM",
        "colab_type": "code",
        "colab": {}
      },
      "source": [
        "X_train = X_train.astype('float32')\n",
        "X_test  = X_test.astype('float32')"
      ],
      "execution_count": 0,
      "outputs": []
    },
    {
      "cell_type": "code",
      "metadata": {
        "id": "CnNzpU-n79wG",
        "colab_type": "code",
        "colab": {}
      },
      "source": [
        "# guassian normalisation\n",
        "# Z-score\n",
        "X_train = ( X_train-np.mean(X_train) )/np.std(X_train)\n",
        "X_test  = ( X_test-np.mean(X_test) )/np.std(X_test)"
      ],
      "execution_count": 0,
      "outputs": []
    },
    {
      "cell_type": "markdown",
      "metadata": {
        "id": "KvQg9oM6BaaD",
        "colab_type": "text"
      },
      "source": [
        "convert class vector into binary class vector.\n",
        "beacuse we are going to use NN where we have a output layer of 10 classes (0-9).\n",
        "here each row in Y tells us about  labels (or class) .\n",
        "\n",
        "keras.utils.to_categorical(y, num_classes=10,)\n",
        "\n",
        "used for categorical crossentropy.\n",
        "\n",
        "> after executing above line of code .\n",
        " new dimesion of array will be (initial no. of rows , num_classes )\n"
      ]
    },
    {
      "cell_type": "code",
      "metadata": {
        "id": "DHsKOwZ0ASkt",
        "colab_type": "code",
        "colab": {
          "base_uri": "https://localhost:8080/",
          "height": 84
        },
        "outputId": "14982521-42ae-472b-f6b2-ed74f267a2a6"
      },
      "source": [
        "from keras.utils import to_categorical\n",
        "Y_train = to_categorical(Y_train,10)\n",
        "Y_test =  to_categorical(Y_test,10)\n",
        "data_summary(X_train,Y_train,X_test,Y_test)"
      ],
      "execution_count": 109,
      "outputs": [
        {
          "output_type": "stream",
          "text": [
            "Shape of training image set (60000, 784)\n",
            "Shape of training label set (60000, 10)\n",
            "Shape of testing image set (10000, 784)\n",
            "Shape of testing label set (10000, 10)\n"
          ],
          "name": "stdout"
        }
      ]
    },
    {
      "cell_type": "markdown",
      "metadata": {
        "id": "JBvUiwCpDM7g",
        "colab_type": "text"
      },
      "source": [
        "**Building the MULTILAYER PERCEPTRON**"
      ]
    },
    {
      "cell_type": "code",
      "metadata": {
        "id": "KqS9U0MfAWmk",
        "colab_type": "code",
        "colab": {}
      },
      "source": [
        "from keras.models import Sequential\n",
        "from keras.layers import Dense,Dropout"
      ],
      "execution_count": 0,
      "outputs": []
    },
    {
      "cell_type": "code",
      "metadata": {
        "id": "ylRmGYObDEE8",
        "colab_type": "code",
        "colab": {}
      },
      "source": [
        "model = Sequential()\n",
        "# add first hidden layer\n",
        "model.add(Dense(512,activation='relu',input_shape = (784,)))\n",
        "model.add(Dropout(0.2))\n",
        "\n",
        "# add second hidden layer where we have  256 neurons and each neuron is subjected to 512 input from last laye\n",
        "\n",
        "model.add(Dense(256,activation='relu'))\n",
        "model.add(Dropout(0.2))\n",
        "\n",
        "# add output layer where we have 10 neuron corresponding to each class num_class\n",
        "model.add(Dense(10,activation='softmax'))\n",
        "\n"
      ],
      "execution_count": 0,
      "outputs": []
    },
    {
      "cell_type": "code",
      "metadata": {
        "id": "NAudAmTDJ0I6",
        "colab_type": "code",
        "colab": {}
      },
      "source": [
        "\n",
        "## compile the model .. \n",
        "model.compile( loss = 'categorical_crossentropy',optimizer = 'rmsprop',metrics = ['accuracy'] )\n"
      ],
      "execution_count": 0,
      "outputs": []
    },
    {
      "cell_type": "code",
      "metadata": {
        "id": "AbyHpqUgLXys",
        "colab_type": "code",
        "colab": {
          "base_uri": "https://localhost:8080/",
          "height": 672
        },
        "outputId": "456d6307-dc99-4947-e1c0-fb8ec22cf745"
      },
      "source": [
        "# install livelossplot to visualise the test accuracy and loss\n",
        "pip install livelossplot\n"
      ],
      "execution_count": 113,
      "outputs": [
        {
          "output_type": "stream",
          "text": [
            "Requirement already satisfied: livelossplot in /usr/local/lib/python3.6/dist-packages (0.4.1)\n",
            "Requirement already satisfied: matplotlib in /usr/local/lib/python3.6/dist-packages (from livelossplot) (3.1.1)\n",
            "Requirement already satisfied: notebook in /usr/local/lib/python3.6/dist-packages (from livelossplot) (5.2.2)\n",
            "Requirement already satisfied: cycler>=0.10 in /usr/local/lib/python3.6/dist-packages (from matplotlib->livelossplot) (0.10.0)\n",
            "Requirement already satisfied: python-dateutil>=2.1 in /usr/local/lib/python3.6/dist-packages (from matplotlib->livelossplot) (2.6.1)\n",
            "Requirement already satisfied: pyparsing!=2.0.4,!=2.1.2,!=2.1.6,>=2.0.1 in /usr/local/lib/python3.6/dist-packages (from matplotlib->livelossplot) (2.4.4)\n",
            "Requirement already satisfied: numpy>=1.11 in /usr/local/lib/python3.6/dist-packages (from matplotlib->livelossplot) (1.17.3)\n",
            "Requirement already satisfied: kiwisolver>=1.0.1 in /usr/local/lib/python3.6/dist-packages (from matplotlib->livelossplot) (1.1.0)\n",
            "Requirement already satisfied: nbconvert in /usr/local/lib/python3.6/dist-packages (from notebook->livelossplot) (5.6.1)\n",
            "Requirement already satisfied: jinja2 in /usr/local/lib/python3.6/dist-packages (from notebook->livelossplot) (2.10.3)\n",
            "Requirement already satisfied: ipython-genutils in /usr/local/lib/python3.6/dist-packages (from notebook->livelossplot) (0.2.0)\n",
            "Requirement already satisfied: jupyter-client in /usr/local/lib/python3.6/dist-packages (from notebook->livelossplot) (5.3.4)\n",
            "Requirement already satisfied: jupyter-core in /usr/local/lib/python3.6/dist-packages (from notebook->livelossplot) (4.6.1)\n",
            "Requirement already satisfied: tornado>=4 in /usr/local/lib/python3.6/dist-packages (from notebook->livelossplot) (4.5.3)\n",
            "Requirement already satisfied: traitlets>=4.2.1 in /usr/local/lib/python3.6/dist-packages (from notebook->livelossplot) (4.3.3)\n",
            "Requirement already satisfied: terminado>=0.3.3; sys_platform != \"win32\" in /usr/local/lib/python3.6/dist-packages (from notebook->livelossplot) (0.8.2)\n",
            "Requirement already satisfied: ipykernel in /usr/local/lib/python3.6/dist-packages (from notebook->livelossplot) (4.6.1)\n",
            "Requirement already satisfied: nbformat in /usr/local/lib/python3.6/dist-packages (from notebook->livelossplot) (4.4.0)\n",
            "Requirement already satisfied: six in /usr/local/lib/python3.6/dist-packages (from cycler>=0.10->matplotlib->livelossplot) (1.12.0)\n",
            "Requirement already satisfied: setuptools in /usr/local/lib/python3.6/dist-packages (from kiwisolver>=1.0.1->matplotlib->livelossplot) (41.4.0)\n",
            "Requirement already satisfied: pygments in /usr/local/lib/python3.6/dist-packages (from nbconvert->notebook->livelossplot) (2.1.3)\n",
            "Requirement already satisfied: entrypoints>=0.2.2 in /usr/local/lib/python3.6/dist-packages (from nbconvert->notebook->livelossplot) (0.3)\n",
            "Requirement already satisfied: testpath in /usr/local/lib/python3.6/dist-packages (from nbconvert->notebook->livelossplot) (0.4.4)\n",
            "Requirement already satisfied: bleach in /usr/local/lib/python3.6/dist-packages (from nbconvert->notebook->livelossplot) (3.1.0)\n",
            "Requirement already satisfied: mistune<2,>=0.8.1 in /usr/local/lib/python3.6/dist-packages (from nbconvert->notebook->livelossplot) (0.8.4)\n",
            "Requirement already satisfied: defusedxml in /usr/local/lib/python3.6/dist-packages (from nbconvert->notebook->livelossplot) (0.6.0)\n",
            "Requirement already satisfied: pandocfilters>=1.4.1 in /usr/local/lib/python3.6/dist-packages (from nbconvert->notebook->livelossplot) (1.4.2)\n",
            "Requirement already satisfied: MarkupSafe>=0.23 in /usr/local/lib/python3.6/dist-packages (from jinja2->notebook->livelossplot) (1.1.1)\n",
            "Requirement already satisfied: pyzmq>=13 in /usr/local/lib/python3.6/dist-packages (from jupyter-client->notebook->livelossplot) (17.0.0)\n",
            "Requirement already satisfied: decorator in /usr/local/lib/python3.6/dist-packages (from traitlets>=4.2.1->notebook->livelossplot) (4.4.1)\n",
            "Requirement already satisfied: ptyprocess; os_name != \"nt\" in /usr/local/lib/python3.6/dist-packages (from terminado>=0.3.3; sys_platform != \"win32\"->notebook->livelossplot) (0.6.0)\n",
            "Requirement already satisfied: ipython>=4.0.0 in /usr/local/lib/python3.6/dist-packages (from ipykernel->notebook->livelossplot) (5.5.0)\n",
            "Requirement already satisfied: jsonschema!=2.5.0,>=2.4 in /usr/local/lib/python3.6/dist-packages (from nbformat->notebook->livelossplot) (2.6.0)\n",
            "Requirement already satisfied: webencodings in /usr/local/lib/python3.6/dist-packages (from bleach->nbconvert->notebook->livelossplot) (0.5.1)\n",
            "Requirement already satisfied: pexpect; sys_platform != \"win32\" in /usr/local/lib/python3.6/dist-packages (from ipython>=4.0.0->ipykernel->notebook->livelossplot) (4.7.0)\n",
            "Requirement already satisfied: simplegeneric>0.8 in /usr/local/lib/python3.6/dist-packages (from ipython>=4.0.0->ipykernel->notebook->livelossplot) (0.8.1)\n",
            "Requirement already satisfied: pickleshare in /usr/local/lib/python3.6/dist-packages (from ipython>=4.0.0->ipykernel->notebook->livelossplot) (0.7.5)\n",
            "Requirement already satisfied: prompt-toolkit<2.0.0,>=1.0.4 in /usr/local/lib/python3.6/dist-packages (from ipython>=4.0.0->ipykernel->notebook->livelossplot) (1.0.18)\n",
            "Requirement already satisfied: wcwidth in /usr/local/lib/python3.6/dist-packages (from prompt-toolkit<2.0.0,>=1.0.4->ipython>=4.0.0->ipykernel->notebook->livelossplot) (0.1.7)\n"
          ],
          "name": "stdout"
        }
      ]
    },
    {
      "cell_type": "code",
      "metadata": {
        "id": "RvcsaC_PMrKu",
        "colab_type": "code",
        "colab": {}
      },
      "source": [
        "import livelossplot\n",
        "plot_losses = livelossplot.PlotLossesKeras()\n",
        "\n",
        "%matplotlib inline"
      ],
      "execution_count": 0,
      "outputs": []
    },
    {
      "cell_type": "code",
      "metadata": {
        "id": "hkfWCAyRKAFF",
        "colab_type": "code",
        "colab": {
          "base_uri": "https://localhost:8080/",
          "height": 722
        },
        "outputId": "a8dca22a-8fb3-4187-bae9-8812c9dd3bf2"
      },
      "source": [
        "## train the model\n",
        "batch_size = 128\n",
        "epoch_num = 10\n",
        "model.fit(X_train,\n",
        "          Y_train,\n",
        "          batch_size=128,\n",
        "          epochs=20,\n",
        "          verbose = 2,\n",
        "          validation_data=(X_test,Y_test))"
      ],
      "execution_count": 117,
      "outputs": [
        {
          "output_type": "stream",
          "text": [
            "Train on 60000 samples, validate on 10000 samples\n",
            "Epoch 1/20\n",
            " - 8s - loss: 0.0547 - acc: 0.9869 - val_loss: 0.0969 - val_acc: 0.9813\n",
            "Epoch 2/20\n",
            " - 7s - loss: 0.0488 - acc: 0.9876 - val_loss: 0.1163 - val_acc: 0.9793\n",
            "Epoch 3/20\n",
            " - 7s - loss: 0.0500 - acc: 0.9883 - val_loss: 0.1061 - val_acc: 0.9809\n",
            "Epoch 4/20\n",
            " - 7s - loss: 0.0503 - acc: 0.9885 - val_loss: 0.1138 - val_acc: 0.9817\n",
            "Epoch 5/20\n",
            " - 8s - loss: 0.0466 - acc: 0.9900 - val_loss: 0.1215 - val_acc: 0.9817\n",
            "Epoch 6/20\n",
            " - 7s - loss: 0.0526 - acc: 0.9891 - val_loss: 0.1157 - val_acc: 0.9816\n",
            "Epoch 7/20\n",
            " - 7s - loss: 0.0506 - acc: 0.9888 - val_loss: 0.1139 - val_acc: 0.9822\n",
            "Epoch 8/20\n",
            " - 7s - loss: 0.0511 - acc: 0.9896 - val_loss: 0.1215 - val_acc: 0.9821\n",
            "Epoch 9/20\n",
            " - 7s - loss: 0.0453 - acc: 0.9908 - val_loss: 0.1378 - val_acc: 0.9795\n",
            "Epoch 10/20\n",
            " - 8s - loss: 0.0456 - acc: 0.9904 - val_loss: 0.1393 - val_acc: 0.9810\n",
            "Epoch 11/20\n",
            " - 7s - loss: 0.0504 - acc: 0.9901 - val_loss: 0.1192 - val_acc: 0.9815\n",
            "Epoch 12/20\n",
            " - 7s - loss: 0.0486 - acc: 0.9906 - val_loss: 0.1395 - val_acc: 0.9820\n",
            "Epoch 13/20\n",
            " - 7s - loss: 0.0459 - acc: 0.9909 - val_loss: 0.1690 - val_acc: 0.9787\n",
            "Epoch 14/20\n",
            " - 7s - loss: 0.0494 - acc: 0.9913 - val_loss: 0.1451 - val_acc: 0.9811\n",
            "Epoch 15/20\n",
            " - 7s - loss: 0.0445 - acc: 0.9911 - val_loss: 0.1296 - val_acc: 0.9830\n",
            "Epoch 16/20\n",
            " - 7s - loss: 0.0471 - acc: 0.9916 - val_loss: 0.1443 - val_acc: 0.9820\n",
            "Epoch 17/20\n",
            " - 7s - loss: 0.0455 - acc: 0.9919 - val_loss: 0.1375 - val_acc: 0.9832\n",
            "Epoch 18/20\n",
            " - 7s - loss: 0.0436 - acc: 0.9922 - val_loss: 0.1378 - val_acc: 0.9834\n",
            "Epoch 19/20\n",
            " - 7s - loss: 0.0447 - acc: 0.9924 - val_loss: 0.1507 - val_acc: 0.9813\n",
            "Epoch 20/20\n",
            " - 7s - loss: 0.0461 - acc: 0.9922 - val_loss: 0.1289 - val_acc: 0.9844\n"
          ],
          "name": "stdout"
        },
        {
          "output_type": "execute_result",
          "data": {
            "text/plain": [
              "<keras.callbacks.History at 0x7fb760b79e48>"
            ]
          },
          "metadata": {
            "tags": []
          },
          "execution_count": 117
        }
      ]
    },
    {
      "cell_type": "code",
      "metadata": {
        "id": "BBYV0DCuLP5A",
        "colab_type": "code",
        "colab": {
          "base_uri": "https://localhost:8080/",
          "height": 67
        },
        "outputId": "8ea33cc1-85bf-4cf4-d507-f62c17e356d5"
      },
      "source": [
        "# evaluate the model on test set\n",
        "score = model.evaluate(X_test,Y_test)\n",
        "print(\"test loss\",score[0])\n",
        "print(\"test accuracy\",score[1])"
      ],
      "execution_count": 118,
      "outputs": [
        {
          "output_type": "stream",
          "text": [
            "10000/10000 [==============================] - 1s 74us/step\n",
            "test loss 0.12886857947046965\n",
            "test accuracy 0.9844\n"
          ],
          "name": "stdout"
        }
      ]
    },
    {
      "cell_type": "code",
      "metadata": {
        "id": "fJYWLeEQTB5j",
        "colab_type": "code",
        "colab": {
          "base_uri": "https://localhost:8080/",
          "height": 319
        },
        "outputId": "82455658-a801-45bd-b656-ba305259d668"
      },
      "source": [
        "# show model summary\n",
        "model.summary()"
      ],
      "execution_count": 119,
      "outputs": [
        {
          "output_type": "stream",
          "text": [
            "Model: \"sequential_8\"\n",
            "_________________________________________________________________\n",
            "Layer (type)                 Output Shape              Param #   \n",
            "=================================================================\n",
            "dense_17 (Dense)             (None, 512)               401920    \n",
            "_________________________________________________________________\n",
            "dropout_11 (Dropout)         (None, 512)               0         \n",
            "_________________________________________________________________\n",
            "dense_18 (Dense)             (None, 256)               131328    \n",
            "_________________________________________________________________\n",
            "dropout_12 (Dropout)         (None, 256)               0         \n",
            "_________________________________________________________________\n",
            "dense_19 (Dense)             (None, 10)                2570      \n",
            "=================================================================\n",
            "Total params: 535,818\n",
            "Trainable params: 535,818\n",
            "Non-trainable params: 0\n",
            "_________________________________________________________________\n"
          ],
          "name": "stdout"
        }
      ]
    },
    {
      "cell_type": "code",
      "metadata": {
        "id": "4isptjidT-nM",
        "colab_type": "code",
        "colab": {}
      },
      "source": [
        ""
      ],
      "execution_count": 0,
      "outputs": []
    }
  ]
}